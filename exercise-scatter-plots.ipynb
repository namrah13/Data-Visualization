{
 "cells": [
  {
   "cell_type": "markdown",
   "id": "32852f60",
   "metadata": {
    "papermill": {
     "duration": 0.036073,
     "end_time": "2022-04-08T12:08:00.970425",
     "exception": false,
     "start_time": "2022-04-08T12:08:00.934352",
     "status": "completed"
    },
    "tags": []
   },
   "source": [
    "**This notebook is an exercise in the [Data Visualization](https://www.kaggle.com/learn/data-visualization) course.  You can reference the tutorial at [this link](https://www.kaggle.com/alexisbcook/scatter-plots).**\n",
    "\n",
    "---\n"
   ]
  },
  {
   "cell_type": "markdown",
   "id": "cbaac290",
   "metadata": {
    "papermill": {
     "duration": 0.03518,
     "end_time": "2022-04-08T12:08:01.040507",
     "exception": false,
     "start_time": "2022-04-08T12:08:01.005327",
     "status": "completed"
    },
    "tags": []
   },
   "source": [
    "In this exercise, you will use your new knowledge to propose a solution to a real-world scenario.  To succeed, you will need to import data into Python, answer questions using the data, and generate **scatter plots** to understand patterns in the data.\n",
    "\n",
    "## Scenario\n",
    "\n",
    "You work for a major candy producer, and your goal is to write a report that your company can use to guide the design of its next product.  Soon after starting your research, you stumble across this [very interesting dataset](https://fivethirtyeight.com/features/the-ultimate-halloween-candy-power-ranking/) containing results from a fun survey to crowdsource favorite candies.\n",
    "\n",
    "## Setup\n",
    "\n",
    "Run the next cell to import and configure the Python libraries that you need to complete the exercise."
   ]
  },
  {
   "cell_type": "code",
   "execution_count": 1,
   "id": "92c3b684",
   "metadata": {
    "execution": {
     "iopub.execute_input": "2022-04-08T12:08:01.118860Z",
     "iopub.status.busy": "2022-04-08T12:08:01.118222Z",
     "iopub.status.idle": "2022-04-08T12:08:02.219462Z",
     "shell.execute_reply": "2022-04-08T12:08:02.218644Z",
     "shell.execute_reply.started": "2022-04-08T12:07:12.402192Z"
    },
    "papermill": {
     "duration": 1.144422,
     "end_time": "2022-04-08T12:08:02.219630",
     "exception": false,
     "start_time": "2022-04-08T12:08:01.075208",
     "status": "completed"
    },
    "tags": []
   },
   "outputs": [
    {
     "name": "stdout",
     "output_type": "stream",
     "text": [
      "Setup Complete\n"
     ]
    }
   ],
   "source": [
    "import pandas as pd\n",
    "pd.plotting.register_matplotlib_converters()\n",
    "import matplotlib.pyplot as plt\n",
    "%matplotlib inline\n",
    "import seaborn as sns\n",
    "print(\"Setup Complete\")"
   ]
  },
  {
   "cell_type": "markdown",
   "id": "da3a8ed8",
   "metadata": {
    "papermill": {
     "duration": 0.035561,
     "end_time": "2022-04-08T12:08:02.291118",
     "exception": false,
     "start_time": "2022-04-08T12:08:02.255557",
     "status": "completed"
    },
    "tags": []
   },
   "source": [
    "The questions below will give you feedback on your work. Run the following cell to set up our feedback system."
   ]
  },
  {
   "cell_type": "code",
   "execution_count": 2,
   "id": "b2c2afec",
   "metadata": {
    "execution": {
     "iopub.execute_input": "2022-04-08T12:08:02.367692Z",
     "iopub.status.busy": "2022-04-08T12:08:02.366778Z",
     "iopub.status.idle": "2022-04-08T12:08:02.422627Z",
     "shell.execute_reply": "2022-04-08T12:08:02.422091Z",
     "shell.execute_reply.started": "2022-04-08T12:07:13.427709Z"
    },
    "papermill": {
     "duration": 0.096338,
     "end_time": "2022-04-08T12:08:02.422770",
     "exception": false,
     "start_time": "2022-04-08T12:08:02.326432",
     "status": "completed"
    },
    "tags": []
   },
   "outputs": [
    {
     "name": "stdout",
     "output_type": "stream",
     "text": [
      "Setup Complete\n"
     ]
    }
   ],
   "source": [
    "# Set up code checking\n",
    "import os\n",
    "if not os.path.exists(\"../input/candy.csv\"):\n",
    "    os.symlink(\"../input/data-for-datavis/candy.csv\", \"../input/candy.csv\") \n",
    "from learntools.core import binder\n",
    "binder.bind(globals())\n",
    "from learntools.data_viz_to_coder.ex4 import *\n",
    "print(\"Setup Complete\")"
   ]
  },
  {
   "cell_type": "markdown",
   "id": "9c09794d",
   "metadata": {
    "papermill": {
     "duration": 0.036968,
     "end_time": "2022-04-08T12:08:02.495708",
     "exception": false,
     "start_time": "2022-04-08T12:08:02.458740",
     "status": "completed"
    },
    "tags": []
   },
   "source": [
    "## Step 1: Load the Data\n",
    "\n",
    "Read the candy data file into `candy_data`.  Use the `\"id\"` column to label the rows."
   ]
  },
  {
   "cell_type": "code",
   "execution_count": 3,
   "id": "ed64dcc8",
   "metadata": {
    "execution": {
     "iopub.execute_input": "2022-04-08T12:08:02.572818Z",
     "iopub.status.busy": "2022-04-08T12:08:02.572119Z",
     "iopub.status.idle": "2022-04-08T12:08:02.585523Z",
     "shell.execute_reply": "2022-04-08T12:08:02.586024Z",
     "shell.execute_reply.started": "2022-04-08T12:07:13.484072Z"
    },
    "papermill": {
     "duration": 0.054566,
     "end_time": "2022-04-08T12:08:02.586213",
     "exception": false,
     "start_time": "2022-04-08T12:08:02.531647",
     "status": "completed"
    },
    "tags": []
   },
   "outputs": [
    {
     "data": {
      "application/javascript": [
       "parent.postMessage({\"jupyterEvent\": \"custom.exercise_interaction\", \"data\": {\"outcomeType\": 1, \"valueTowardsCompletion\": 0.3333333333333333, \"interactionType\": 1, \"questionType\": 1, \"questionId\": \"1_LoadData\", \"learnToolsVersion\": \"0.3.4\", \"failureMessage\": \"\", \"exceptionClass\": \"\", \"trace\": \"\"}}, \"*\")"
      ],
      "text/plain": [
       "<IPython.core.display.Javascript object>"
      ]
     },
     "metadata": {},
     "output_type": "display_data"
    },
    {
     "data": {
      "text/markdown": [
       "<span style=\"color:#33cc33\">Correct</span>"
      ],
      "text/plain": [
       "Correct"
      ]
     },
     "metadata": {},
     "output_type": "display_data"
    }
   ],
   "source": [
    "# Path of the file to read\n",
    "candy_filepath = \"../input/candy.csv\"\n",
    "\n",
    "# Fill in the line below to read the file into a variable candy_data\n",
    "candy_data = pd.read_csv(candy_filepath,index_col=\"id\")\n",
    "\n",
    "# Run the line below with no changes to check that you've loaded the data correctly\n",
    "step_1.check()"
   ]
  },
  {
   "cell_type": "code",
   "execution_count": 4,
   "id": "d06bd54c",
   "metadata": {
    "execution": {
     "iopub.execute_input": "2022-04-08T12:08:02.666540Z",
     "iopub.status.busy": "2022-04-08T12:08:02.665680Z",
     "iopub.status.idle": "2022-04-08T12:08:02.670599Z",
     "shell.execute_reply": "2022-04-08T12:08:02.671089Z",
     "shell.execute_reply.started": "2022-04-08T12:07:13.501104Z"
    },
    "papermill": {
     "duration": 0.047482,
     "end_time": "2022-04-08T12:08:02.671258",
     "exception": false,
     "start_time": "2022-04-08T12:08:02.623776",
     "status": "completed"
    },
    "tags": []
   },
   "outputs": [
    {
     "data": {
      "application/javascript": [
       "parent.postMessage({\"jupyterEvent\": \"custom.exercise_interaction\", \"data\": {\"interactionType\": 3, \"questionType\": 1, \"questionId\": \"1_LoadData\", \"learnToolsVersion\": \"0.3.4\", \"valueTowardsCompletion\": 0.0, \"failureMessage\": \"\", \"exceptionClass\": \"\", \"trace\": \"\", \"outcomeType\": 4}}, \"*\")"
      ],
      "text/plain": [
       "<IPython.core.display.Javascript object>"
      ]
     },
     "metadata": {},
     "output_type": "display_data"
    },
    {
     "data": {
      "text/markdown": [
       "<span style=\"color:#33cc99\">Solution:</span> \n",
       "```python\n",
       "candy_data = pd.read_csv(candy_filepath, index_col=\"id\")\n",
       "```"
      ],
      "text/plain": [
       "Solution: \n",
       "```python\n",
       "candy_data = pd.read_csv(candy_filepath, index_col=\"id\")\n",
       "```"
      ]
     },
     "metadata": {},
     "output_type": "display_data"
    }
   ],
   "source": [
    "# Lines below will give you a hint or solution code\n",
    "#step_1.hint()\n",
    "step_1.solution()"
   ]
  },
  {
   "cell_type": "markdown",
   "id": "8365d5e7",
   "metadata": {
    "papermill": {
     "duration": 0.037843,
     "end_time": "2022-04-08T12:08:02.747128",
     "exception": false,
     "start_time": "2022-04-08T12:08:02.709285",
     "status": "completed"
    },
    "tags": []
   },
   "source": [
    "## Step 2: Review the data\n",
    "\n",
    "Use a Python command to print the first five rows of the data."
   ]
  },
  {
   "cell_type": "code",
   "execution_count": 5,
   "id": "fcd877d6",
   "metadata": {
    "execution": {
     "iopub.execute_input": "2022-04-08T12:08:02.829493Z",
     "iopub.status.busy": "2022-04-08T12:08:02.828447Z",
     "iopub.status.idle": "2022-04-08T12:08:02.847170Z",
     "shell.execute_reply": "2022-04-08T12:08:02.847709Z",
     "shell.execute_reply.started": "2022-04-08T12:07:13.509502Z"
    },
    "papermill": {
     "duration": 0.062563,
     "end_time": "2022-04-08T12:08:02.847885",
     "exception": false,
     "start_time": "2022-04-08T12:08:02.785322",
     "status": "completed"
    },
    "tags": []
   },
   "outputs": [
    {
     "data": {
      "text/html": [
       "<div>\n",
       "<style scoped>\n",
       "    .dataframe tbody tr th:only-of-type {\n",
       "        vertical-align: middle;\n",
       "    }\n",
       "\n",
       "    .dataframe tbody tr th {\n",
       "        vertical-align: top;\n",
       "    }\n",
       "\n",
       "    .dataframe thead th {\n",
       "        text-align: right;\n",
       "    }\n",
       "</style>\n",
       "<table border=\"1\" class=\"dataframe\">\n",
       "  <thead>\n",
       "    <tr style=\"text-align: right;\">\n",
       "      <th></th>\n",
       "      <th>competitorname</th>\n",
       "      <th>chocolate</th>\n",
       "      <th>fruity</th>\n",
       "      <th>caramel</th>\n",
       "      <th>peanutyalmondy</th>\n",
       "      <th>nougat</th>\n",
       "      <th>crispedricewafer</th>\n",
       "      <th>hard</th>\n",
       "      <th>bar</th>\n",
       "      <th>pluribus</th>\n",
       "      <th>sugarpercent</th>\n",
       "      <th>pricepercent</th>\n",
       "      <th>winpercent</th>\n",
       "    </tr>\n",
       "    <tr>\n",
       "      <th>id</th>\n",
       "      <th></th>\n",
       "      <th></th>\n",
       "      <th></th>\n",
       "      <th></th>\n",
       "      <th></th>\n",
       "      <th></th>\n",
       "      <th></th>\n",
       "      <th></th>\n",
       "      <th></th>\n",
       "      <th></th>\n",
       "      <th></th>\n",
       "      <th></th>\n",
       "      <th></th>\n",
       "    </tr>\n",
       "  </thead>\n",
       "  <tbody>\n",
       "    <tr>\n",
       "      <th>0</th>\n",
       "      <td>100 Grand</td>\n",
       "      <td>Yes</td>\n",
       "      <td>No</td>\n",
       "      <td>Yes</td>\n",
       "      <td>No</td>\n",
       "      <td>No</td>\n",
       "      <td>Yes</td>\n",
       "      <td>No</td>\n",
       "      <td>Yes</td>\n",
       "      <td>No</td>\n",
       "      <td>0.732</td>\n",
       "      <td>0.860</td>\n",
       "      <td>66.971725</td>\n",
       "    </tr>\n",
       "    <tr>\n",
       "      <th>1</th>\n",
       "      <td>3 Musketeers</td>\n",
       "      <td>Yes</td>\n",
       "      <td>No</td>\n",
       "      <td>No</td>\n",
       "      <td>No</td>\n",
       "      <td>Yes</td>\n",
       "      <td>No</td>\n",
       "      <td>No</td>\n",
       "      <td>Yes</td>\n",
       "      <td>No</td>\n",
       "      <td>0.604</td>\n",
       "      <td>0.511</td>\n",
       "      <td>67.602936</td>\n",
       "    </tr>\n",
       "    <tr>\n",
       "      <th>2</th>\n",
       "      <td>Air Heads</td>\n",
       "      <td>No</td>\n",
       "      <td>Yes</td>\n",
       "      <td>No</td>\n",
       "      <td>No</td>\n",
       "      <td>No</td>\n",
       "      <td>No</td>\n",
       "      <td>No</td>\n",
       "      <td>No</td>\n",
       "      <td>No</td>\n",
       "      <td>0.906</td>\n",
       "      <td>0.511</td>\n",
       "      <td>52.341465</td>\n",
       "    </tr>\n",
       "    <tr>\n",
       "      <th>3</th>\n",
       "      <td>Almond Joy</td>\n",
       "      <td>Yes</td>\n",
       "      <td>No</td>\n",
       "      <td>No</td>\n",
       "      <td>Yes</td>\n",
       "      <td>No</td>\n",
       "      <td>No</td>\n",
       "      <td>No</td>\n",
       "      <td>Yes</td>\n",
       "      <td>No</td>\n",
       "      <td>0.465</td>\n",
       "      <td>0.767</td>\n",
       "      <td>50.347546</td>\n",
       "    </tr>\n",
       "    <tr>\n",
       "      <th>4</th>\n",
       "      <td>Baby Ruth</td>\n",
       "      <td>Yes</td>\n",
       "      <td>No</td>\n",
       "      <td>Yes</td>\n",
       "      <td>Yes</td>\n",
       "      <td>Yes</td>\n",
       "      <td>No</td>\n",
       "      <td>No</td>\n",
       "      <td>Yes</td>\n",
       "      <td>No</td>\n",
       "      <td>0.604</td>\n",
       "      <td>0.767</td>\n",
       "      <td>56.914547</td>\n",
       "    </tr>\n",
       "  </tbody>\n",
       "</table>\n",
       "</div>"
      ],
      "text/plain": [
       "   competitorname chocolate fruity caramel peanutyalmondy nougat  \\\n",
       "id                                                                 \n",
       "0       100 Grand       Yes     No     Yes             No     No   \n",
       "1    3 Musketeers       Yes     No      No             No    Yes   \n",
       "2       Air Heads        No    Yes      No             No     No   \n",
       "3      Almond Joy       Yes     No      No            Yes     No   \n",
       "4       Baby Ruth       Yes     No     Yes            Yes    Yes   \n",
       "\n",
       "   crispedricewafer hard  bar pluribus  sugarpercent  pricepercent  winpercent  \n",
       "id                                                                              \n",
       "0               Yes   No  Yes       No         0.732         0.860   66.971725  \n",
       "1                No   No  Yes       No         0.604         0.511   67.602936  \n",
       "2                No   No   No       No         0.906         0.511   52.341465  \n",
       "3                No   No  Yes       No         0.465         0.767   50.347546  \n",
       "4                No   No  Yes       No         0.604         0.767   56.914547  "
      ]
     },
     "execution_count": 5,
     "metadata": {},
     "output_type": "execute_result"
    }
   ],
   "source": [
    "# Print the first five rows of the data\n",
    "____ # Your code here\n",
    "candy_data.head()"
   ]
  },
  {
   "cell_type": "markdown",
   "id": "22be2d43",
   "metadata": {
    "papermill": {
     "duration": 0.039009,
     "end_time": "2022-04-08T12:08:02.926325",
     "exception": false,
     "start_time": "2022-04-08T12:08:02.887316",
     "status": "completed"
    },
    "tags": []
   },
   "source": [
    "The dataset contains 83 rows, where each corresponds to a different candy bar.  There are 13 columns:\n",
    "- `'competitorname'` contains the name of the candy bar. \n",
    "- the next **9** columns (from `'chocolate'` to `'pluribus'`) describe the candy.  For instance, rows with chocolate candies have `\"Yes\"` in the `'chocolate'` column (and candies without chocolate have `\"No\"` in the same column).\n",
    "- `'sugarpercent'` provides some indication of the amount of sugar, where higher values signify higher sugar content.\n",
    "- `'pricepercent'` shows the price per unit, relative to the other candies in the dataset.\n",
    "- `'winpercent'` is calculated from the survey results; higher values indicate that the candy was more popular with survey respondents.\n",
    "\n",
    "Use the first five rows of the data to answer the questions below."
   ]
  },
  {
   "cell_type": "code",
   "execution_count": 6,
   "id": "293e848f",
   "metadata": {
    "execution": {
     "iopub.execute_input": "2022-04-08T12:08:03.011633Z",
     "iopub.status.busy": "2022-04-08T12:08:03.010764Z",
     "iopub.status.idle": "2022-04-08T12:08:03.016521Z",
     "shell.execute_reply": "2022-04-08T12:08:03.015862Z",
     "shell.execute_reply.started": "2022-04-08T12:07:13.534323Z"
    },
    "papermill": {
     "duration": 0.050379,
     "end_time": "2022-04-08T12:08:03.016664",
     "exception": false,
     "start_time": "2022-04-08T12:08:02.966285",
     "status": "completed"
    },
    "tags": []
   },
   "outputs": [
    {
     "data": {
      "application/javascript": [
       "parent.postMessage({\"jupyterEvent\": \"custom.exercise_interaction\", \"data\": {\"outcomeType\": 1, \"valueTowardsCompletion\": 0.3333333333333333, \"interactionType\": 1, \"questionType\": 1, \"questionId\": \"2_ReviewData\", \"learnToolsVersion\": \"0.3.4\", \"failureMessage\": \"\", \"exceptionClass\": \"\", \"trace\": \"\"}}, \"*\")"
      ],
      "text/plain": [
       "<IPython.core.display.Javascript object>"
      ]
     },
     "metadata": {},
     "output_type": "display_data"
    },
    {
     "data": {
      "text/markdown": [
       "<span style=\"color:#33cc33\">Correct</span>"
      ],
      "text/plain": [
       "Correct"
      ]
     },
     "metadata": {},
     "output_type": "display_data"
    }
   ],
   "source": [
    "# Fill in the line below: Which candy was more popular with survey respondents:\n",
    "# '3 Musketeers' or 'Almond Joy'?  (Please enclose your answer in single quotes.)\n",
    "more_popular = '3 Musketeers'\n",
    "\n",
    "# Fill in the line below: Which candy has higher sugar content: 'Air Heads'\n",
    "# or 'Baby Ruth'? (Please enclose your answer in single quotes.)\n",
    "more_sugar = 'Air Heads'\n",
    "\n",
    "# Check your answers\n",
    "step_2.check()"
   ]
  },
  {
   "cell_type": "code",
   "execution_count": 7,
   "id": "a0daf93f",
   "metadata": {
    "execution": {
     "iopub.execute_input": "2022-04-08T12:08:03.100712Z",
     "iopub.status.busy": "2022-04-08T12:08:03.099474Z",
     "iopub.status.idle": "2022-04-08T12:08:03.103723Z",
     "shell.execute_reply": "2022-04-08T12:08:03.103166Z",
     "shell.execute_reply.started": "2022-04-08T12:07:13.542305Z"
    },
    "papermill": {
     "duration": 0.047215,
     "end_time": "2022-04-08T12:08:03.103889",
     "exception": false,
     "start_time": "2022-04-08T12:08:03.056674",
     "status": "completed"
    },
    "tags": []
   },
   "outputs": [],
   "source": [
    "# Lines below will give you a hint or solution code\n",
    "#step_2.hint()\n",
    "#step_2.solution()"
   ]
  },
  {
   "cell_type": "markdown",
   "id": "25e85237",
   "metadata": {
    "papermill": {
     "duration": 0.039777,
     "end_time": "2022-04-08T12:08:03.184650",
     "exception": false,
     "start_time": "2022-04-08T12:08:03.144873",
     "status": "completed"
    },
    "tags": []
   },
   "source": [
    "## Step 3: The role of sugar\n",
    "\n",
    "Do people tend to prefer candies with higher sugar content?  \n",
    "\n",
    "#### Part A\n",
    "\n",
    "Create a scatter plot that shows the relationship between `'sugarpercent'` (on the horizontal x-axis) and `'winpercent'` (on the vertical y-axis).  _Don't add a regression line just yet -- you'll do that in the next step!_"
   ]
  },
  {
   "cell_type": "code",
   "execution_count": 8,
   "id": "572920a7",
   "metadata": {
    "execution": {
     "iopub.execute_input": "2022-04-08T12:08:03.272117Z",
     "iopub.status.busy": "2022-04-08T12:08:03.271449Z",
     "iopub.status.idle": "2022-04-08T12:08:03.532754Z",
     "shell.execute_reply": "2022-04-08T12:08:03.532080Z",
     "shell.execute_reply.started": "2022-04-08T12:07:13.550417Z"
    },
    "papermill": {
     "duration": 0.308427,
     "end_time": "2022-04-08T12:08:03.532898",
     "exception": false,
     "start_time": "2022-04-08T12:08:03.224471",
     "status": "completed"
    },
    "tags": []
   },
   "outputs": [
    {
     "data": {
      "application/javascript": [
       "parent.postMessage({\"jupyterEvent\": \"custom.exercise_interaction\", \"data\": {\"outcomeType\": 1, \"valueTowardsCompletion\": 0.3333333333333333, \"interactionType\": 1, \"questionType\": 2, \"questionId\": \"3.1_PlotBlueScatter\", \"learnToolsVersion\": \"0.3.4\", \"failureMessage\": \"\", \"exceptionClass\": \"\", \"trace\": \"\"}}, \"*\")"
      ],
      "text/plain": [
       "<IPython.core.display.Javascript object>"
      ]
     },
     "metadata": {},
     "output_type": "display_data"
    },
    {
     "data": {
      "text/markdown": [
       "<span style=\"color:#33cc33\">Correct</span>"
      ],
      "text/plain": [
       "Correct"
      ]
     },
     "metadata": {},
     "output_type": "display_data"
    },
    {
     "data": {
      "image/png": "[encoded data removed]",
      "text/plain": [
       "<Figure size 432x288 with 1 Axes>"
      ]
     },
     "metadata": {
      "needs_background": "light"
     },
     "output_type": "display_data"
    }
   ],
   "source": [
    "# Scatter plot showing the relationship between 'sugarpercent' and 'winpercent'\n",
    "____ # Your code here\n",
    "sns.scatterplot(x=candy_data['sugarpercent'], y=candy_data['winpercent'])\n",
    "\n",
    "# Check your answer\n",
    "step_3.a.check()"
   ]
  },
  {
   "cell_type": "code",
   "execution_count": 9,
   "id": "7d4c3b3c",
   "metadata": {
    "execution": {
     "iopub.execute_input": "2022-04-08T12:08:03.621900Z",
     "iopub.status.busy": "2022-04-08T12:08:03.621234Z",
     "iopub.status.idle": "2022-04-08T12:08:03.625134Z",
     "shell.execute_reply": "2022-04-08T12:08:03.624516Z",
     "shell.execute_reply.started": "2022-04-08T12:07:13.812951Z"
    },
    "papermill": {
     "duration": 0.049613,
     "end_time": "2022-04-08T12:08:03.625273",
     "exception": false,
     "start_time": "2022-04-08T12:08:03.575660",
     "status": "completed"
    },
    "tags": []
   },
   "outputs": [],
   "source": [
    "# Lines below will give you a hint or solution code\n",
    "#step_3.a.hint()\n",
    "#step_3.a.solution_plot()"
   ]
  },
  {
   "cell_type": "markdown",
   "id": "e531e480",
   "metadata": {
    "papermill": {
     "duration": 0.052292,
     "end_time": "2022-04-08T12:08:03.723600",
     "exception": false,
     "start_time": "2022-04-08T12:08:03.671308",
     "status": "completed"
    },
    "tags": []
   },
   "source": [
    "#### Part B\n",
    "\n",
    "Does the scatter plot show a **strong** correlation between the two variables?  If so, are candies with more sugar relatively more or less popular with the survey respondents?"
   ]
  },
  {
   "cell_type": "code",
   "execution_count": 10,
   "id": "e30355e7",
   "metadata": {
    "execution": {
     "iopub.execute_input": "2022-04-08T12:08:03.817818Z",
     "iopub.status.busy": "2022-04-08T12:08:03.817170Z",
     "iopub.status.idle": "2022-04-08T12:08:03.818875Z",
     "shell.execute_reply": "2022-04-08T12:08:03.819441Z",
     "shell.execute_reply.started": "2022-04-08T12:07:13.819198Z"
    },
    "papermill": {
     "duration": 0.048812,
     "end_time": "2022-04-08T12:08:03.819607",
     "exception": false,
     "start_time": "2022-04-08T12:08:03.770795",
     "status": "completed"
    },
    "tags": []
   },
   "outputs": [],
   "source": [
    "#step_3.b.hint()"
   ]
  },
  {
   "cell_type": "code",
   "execution_count": 11,
   "id": "8c164d45",
   "metadata": {
    "execution": {
     "iopub.execute_input": "2022-04-08T12:08:03.908752Z",
     "iopub.status.busy": "2022-04-08T12:08:03.908100Z",
     "iopub.status.idle": "2022-04-08T12:08:03.914233Z",
     "shell.execute_reply": "2022-04-08T12:08:03.914751Z",
     "shell.execute_reply.started": "2022-04-08T12:07:13.828067Z"
    },
    "papermill": {
     "duration": 0.051669,
     "end_time": "2022-04-08T12:08:03.914920",
     "exception": false,
     "start_time": "2022-04-08T12:08:03.863251",
     "status": "completed"
    },
    "tags": []
   },
   "outputs": [
    {
     "data": {
      "application/javascript": [
       "parent.postMessage({\"jupyterEvent\": \"custom.exercise_interaction\", \"data\": {\"interactionType\": 3, \"questionType\": 4, \"questionId\": \"3.2_ThinkBlueScatter\", \"learnToolsVersion\": \"0.3.4\", \"valueTowardsCompletion\": 0.0, \"failureMessage\": \"\", \"exceptionClass\": \"\", \"trace\": \"\", \"outcomeType\": 4}}, \"*\")"
      ],
      "text/plain": [
       "<IPython.core.display.Javascript object>"
      ]
     },
     "metadata": {},
     "output_type": "display_data"
    },
    {
     "data": {
      "text/markdown": [
       "<span style=\"color:#33cc99\">Solution:</span> The scatter plot does not show a strong correlation between the two variables. Since there is no clear relationship between the two variables, this tells us that sugar content does not play a strong role in candy popularity."
      ],
      "text/plain": [
       "Solution: The scatter plot does not show a strong correlation between the two variables. Since there is no clear relationship between the two variables, this tells us that sugar content does not play a strong role in candy popularity."
      ]
     },
     "metadata": {},
     "output_type": "display_data"
    }
   ],
   "source": [
    "# Check your answer (Run this code cell to receive credit!)\n",
    "step_3.b.solution()"
   ]
  },
  {
   "cell_type": "markdown",
   "id": "6bb28b3f",
   "metadata": {
    "papermill": {
     "duration": 0.043377,
     "end_time": "2022-04-08T12:08:04.001740",
     "exception": false,
     "start_time": "2022-04-08T12:08:03.958363",
     "status": "completed"
    },
    "tags": []
   },
   "source": [
    "## Step 4: Take a closer look\n",
    "\n",
    "#### Part A\n",
    "\n",
    "Create the same scatter plot you created in **Step 3**, but now with a regression line!"
   ]
  },
  {
   "cell_type": "code",
   "execution_count": 12,
   "id": "000a6ef3",
   "metadata": {
    "execution": {
     "iopub.execute_input": "2022-04-08T12:08:04.092194Z",
     "iopub.status.busy": "2022-04-08T12:08:04.091487Z",
     "iopub.status.idle": "2022-04-08T12:08:04.428073Z",
     "shell.execute_reply": "2022-04-08T12:08:04.428539Z",
     "shell.execute_reply.started": "2022-04-08T12:07:13.841004Z"
    },
    "papermill": {
     "duration": 0.38303,
     "end_time": "2022-04-08T12:08:04.428720",
     "exception": false,
     "start_time": "2022-04-08T12:08:04.045690",
     "status": "completed"
    },
    "tags": []
   },
   "outputs": [
    {
     "data": {
      "application/javascript": [
       "parent.postMessage({\"jupyterEvent\": \"custom.exercise_interaction\", \"data\": {\"outcomeType\": 1, \"valueTowardsCompletion\": 0.3333333333333333, \"interactionType\": 1, \"questionType\": 2, \"questionId\": \"4.1_PlotBlueReg\", \"learnToolsVersion\": \"0.3.4\", \"failureMessage\": \"\", \"exceptionClass\": \"\", \"trace\": \"\"}}, \"*\")"
      ],
      "text/plain": [
       "<IPython.core.display.Javascript object>"
      ]
     },
     "metadata": {},
     "output_type": "display_data"
    },
    {
     "data": {
      "text/markdown": [
       "<span style=\"color:#33cc33\">Correct</span>"
      ],
      "text/plain": [
       "Correct"
      ]
     },
     "metadata": {},
     "output_type": "display_data"
    },
    {
     "data": {
      "image/png": "[encoded data removed]",
      "text/plain": [
       "<Figure size 432x288 with 1 Axes>"
      ]
     },
     "metadata": {
      "needs_background": "light"
     },
     "output_type": "display_data"
    }
   ],
   "source": [
    "# Scatter plot w/ regression line showing the relationship between 'sugarpercent' and 'winpercent'\n",
    "____ # Your code here\n",
    "sns.regplot(x=candy_data['sugarpercent'], y=candy_data['winpercent'])\n",
    "# Check your answer\n",
    "step_4.a.check()"
   ]
  },
  {
   "cell_type": "code",
   "execution_count": 13,
   "id": "bc1721d1",
   "metadata": {
    "execution": {
     "iopub.execute_input": "2022-04-08T12:08:04.524418Z",
     "iopub.status.busy": "2022-04-08T12:08:04.523423Z",
     "iopub.status.idle": "2022-04-08T12:08:04.526645Z",
     "shell.execute_reply": "2022-04-08T12:08:04.527271Z",
     "shell.execute_reply.started": "2022-04-08T12:07:14.171576Z"
    },
    "papermill": {
     "duration": 0.052434,
     "end_time": "2022-04-08T12:08:04.527438",
     "exception": false,
     "start_time": "2022-04-08T12:08:04.475004",
     "status": "completed"
    },
    "tags": []
   },
   "outputs": [],
   "source": [
    "# Lines below will give you a hint or solution code\n",
    "#step_4.a.hint()\n",
    "#step_4.a.solution_plot()"
   ]
  },
  {
   "cell_type": "markdown",
   "id": "dda20422",
   "metadata": {
    "papermill": {
     "duration": 0.045273,
     "end_time": "2022-04-08T12:08:04.618350",
     "exception": false,
     "start_time": "2022-04-08T12:08:04.573077",
     "status": "completed"
    },
    "tags": []
   },
   "source": [
    "#### Part B\n",
    "\n",
    "According to the plot above, is there a **slight** correlation between `'winpercent'` and `'sugarpercent'`?  What does this tell you about the candy that people tend to prefer?"
   ]
  },
  {
   "cell_type": "code",
   "execution_count": 14,
   "id": "662375e8",
   "metadata": {
    "execution": {
     "iopub.execute_input": "2022-04-08T12:08:04.715891Z",
     "iopub.status.busy": "2022-04-08T12:08:04.714865Z",
     "iopub.status.idle": "2022-04-08T12:08:04.717817Z",
     "shell.execute_reply": "2022-04-08T12:08:04.717222Z",
     "shell.execute_reply.started": "2022-04-08T12:07:14.176551Z"
    },
    "papermill": {
     "duration": 0.052619,
     "end_time": "2022-04-08T12:08:04.717947",
     "exception": false,
     "start_time": "2022-04-08T12:08:04.665328",
     "status": "completed"
    },
    "tags": []
   },
   "outputs": [],
   "source": [
    "#step_4.b.hint()"
   ]
  },
  {
   "cell_type": "code",
   "execution_count": 15,
   "id": "7a98bf27",
   "metadata": {
    "execution": {
     "iopub.execute_input": "2022-04-08T12:08:04.813729Z",
     "iopub.status.busy": "2022-04-08T12:08:04.812739Z",
     "iopub.status.idle": "2022-04-08T12:08:04.820016Z",
     "shell.execute_reply": "2022-04-08T12:08:04.820534Z",
     "shell.execute_reply.started": "2022-04-08T12:07:14.187758Z"
    },
    "papermill": {
     "duration": 0.05675,
     "end_time": "2022-04-08T12:08:04.820698",
     "exception": false,
     "start_time": "2022-04-08T12:08:04.763948",
     "status": "completed"
    },
    "tags": []
   },
   "outputs": [
    {
     "data": {
      "application/javascript": [
       "parent.postMessage({\"jupyterEvent\": \"custom.exercise_interaction\", \"data\": {\"interactionType\": 3, \"questionType\": 4, \"questionId\": \"4.2_ThinkBlueReg\", \"learnToolsVersion\": \"0.3.4\", \"valueTowardsCompletion\": 0.0, \"failureMessage\": \"\", \"exceptionClass\": \"\", \"trace\": \"\", \"outcomeType\": 4}}, \"*\")"
      ],
      "text/plain": [
       "<IPython.core.display.Javascript object>"
      ]
     },
     "metadata": {},
     "output_type": "display_data"
    },
    {
     "data": {
      "text/markdown": [
       "<span style=\"color:#33cc99\">Solution:</span> Since the regression line has a slightly positive slope, this tells us that there is a slightly positive correlation between `'winpercent'` and `'sugarpercent'`. Thus, people have a slight preference for candies containing relatively more sugar."
      ],
      "text/plain": [
       "Solution: Since the regression line has a slightly positive slope, this tells us that there is a slightly positive correlation between `'winpercent'` and `'sugarpercent'`. Thus, people have a slight preference for candies containing relatively more sugar."
      ]
     },
     "metadata": {},
     "output_type": "display_data"
    }
   ],
   "source": [
    "# Check your answer (Run this code cell to receive credit!)\n",
    "step_4.b.solution()"
   ]
  },
  {
   "cell_type": "markdown",
   "id": "d82adee6",
   "metadata": {
    "papermill": {
     "duration": 0.046314,
     "end_time": "2022-04-08T12:08:04.914227",
     "exception": false,
     "start_time": "2022-04-08T12:08:04.867913",
     "status": "completed"
    },
    "tags": []
   },
   "source": [
    "## Step 5: Chocolate!\n",
    "\n",
    "In the code cell below, create a scatter plot to show the relationship between `'pricepercent'` (on the horizontal x-axis) and `'winpercent'` (on the vertical y-axis). Use the `'chocolate'` column to color-code the points.  _Don't add any regression lines just yet -- you'll do that in the next step!_"
   ]
  },
  {
   "cell_type": "code",
   "execution_count": 16,
   "id": "a2c61aec",
   "metadata": {
    "execution": {
     "iopub.execute_input": "2022-04-08T12:08:05.036392Z",
     "iopub.status.busy": "2022-04-08T12:08:05.030631Z",
     "iopub.status.idle": "2022-04-08T12:08:05.318267Z",
     "shell.execute_reply": "2022-04-08T12:08:05.317590Z",
     "shell.execute_reply.started": "2022-04-08T12:07:14.201971Z"
    },
    "papermill": {
     "duration": 0.357734,
     "end_time": "2022-04-08T12:08:05.318425",
     "exception": false,
     "start_time": "2022-04-08T12:08:04.960691",
     "status": "completed"
    },
    "tags": []
   },
   "outputs": [
    {
     "data": {
      "application/javascript": [
       "parent.postMessage({\"jupyterEvent\": \"custom.exercise_interaction\", \"data\": {\"outcomeType\": 1, \"valueTowardsCompletion\": 0.3333333333333333, \"interactionType\": 1, \"questionType\": 2, \"questionId\": \"5_ColorScatter\", \"learnToolsVersion\": \"0.3.4\", \"failureMessage\": \"\", \"exceptionClass\": \"\", \"trace\": \"\"}}, \"*\")"
      ],
      "text/plain": [
       "<IPython.core.display.Javascript object>"
      ]
     },
     "metadata": {},
     "output_type": "display_data"
    },
    {
     "data": {
      "text/markdown": [
       "<span style=\"color:#33cc33\">Correct</span>"
      ],
      "text/plain": [
       "Correct"
      ]
     },
     "metadata": {},
     "output_type": "display_data"
    },
    {
     "data": {
      "image/png": "[encoded data removed]",
      "text/plain": [
       "<Figure size 432x288 with 1 Axes>"
      ]
     },
     "metadata": {
      "needs_background": "light"
     },
     "output_type": "display_data"
    }
   ],
   "source": [
    "# Scatter plot showing the relationship between 'pricepercent', 'winpercent', and 'chocolate'\n",
    "____ # Your code here\n",
    "sns.scatterplot(x=candy_data['pricepercent'], y=candy_data['winpercent'], hue=candy_data['chocolate'])\n",
    "\n",
    "# Check your answer\n",
    "step_5.check()"
   ]
  },
  {
   "cell_type": "code",
   "execution_count": 17,
   "id": "2a355289",
   "metadata": {
    "execution": {
     "iopub.execute_input": "2022-04-08T12:08:05.421013Z",
     "iopub.status.busy": "2022-04-08T12:08:05.420127Z",
     "iopub.status.idle": "2022-04-08T12:08:05.424112Z",
     "shell.execute_reply": "2022-04-08T12:08:05.423444Z",
     "shell.execute_reply.started": "2022-04-08T12:07:14.505520Z"
    },
    "papermill": {
     "duration": 0.056731,
     "end_time": "2022-04-08T12:08:05.424266",
     "exception": false,
     "start_time": "2022-04-08T12:08:05.367535",
     "status": "completed"
    },
    "tags": []
   },
   "outputs": [],
   "source": [
    "# Lines below will give you a hint or solution code\n",
    "#step_5.hint()\n",
    "#step_5.solution_plot()"
   ]
  },
  {
   "cell_type": "markdown",
   "id": "ae4ac2c7",
   "metadata": {
    "papermill": {
     "duration": 0.048712,
     "end_time": "2022-04-08T12:08:05.521824",
     "exception": false,
     "start_time": "2022-04-08T12:08:05.473112",
     "status": "completed"
    },
    "tags": []
   },
   "source": [
    "Can you see any interesting patterns in the scatter plot?  We'll investigate this plot further  by adding regression lines in the next step!\n",
    "\n",
    "## Step 6: Investigate chocolate\n",
    "\n",
    "#### Part A\n",
    "\n",
    "Create the same scatter plot you created in **Step 5**, but now with two regression lines, corresponding to (1) chocolate candies and (2) candies without chocolate."
   ]
  },
  {
   "cell_type": "code",
   "execution_count": 18,
   "id": "33936299",
   "metadata": {
    "execution": {
     "iopub.execute_input": "2022-04-08T12:08:05.643300Z",
     "iopub.status.busy": "2022-04-08T12:08:05.642220Z",
     "iopub.status.idle": "2022-04-08T12:08:06.290664Z",
     "shell.execute_reply": "2022-04-08T12:08:06.290144Z",
     "shell.execute_reply.started": "2022-04-08T12:07:14.511373Z"
    },
    "papermill": {
     "duration": 0.720142,
     "end_time": "2022-04-08T12:08:06.290823",
     "exception": false,
     "start_time": "2022-04-08T12:08:05.570681",
     "status": "completed"
    },
    "tags": []
   },
   "outputs": [
    {
     "data": {
      "application/javascript": [
       "parent.postMessage({\"jupyterEvent\": \"custom.exercise_interaction\", \"data\": {\"outcomeType\": 1, \"valueTowardsCompletion\": 0.3333333333333333, \"interactionType\": 1, \"questionType\": 2, \"questionId\": \"6.1_PlotColorReg\", \"learnToolsVersion\": \"0.3.4\", \"failureMessage\": \"\", \"exceptionClass\": \"\", \"trace\": \"\"}}, \"*\")"
      ],
      "text/plain": [
       "<IPython.core.display.Javascript object>"
      ]
     },
     "metadata": {},
     "output_type": "display_data"
    },
    {
     "data": {
      "text/markdown": [
       "<span style=\"color:#33cc33\">Correct</span>"
      ],
      "text/plain": [
       "Correct"
      ]
     },
     "metadata": {},
     "output_type": "display_data"
    },
    {
     "data": {
      "image/png": "[encoded data removed]",
      "text/plain": [
       "<Figure size 416.375x360 with 1 Axes>"
      ]
     },
     "metadata": {
      "needs_background": "light"
     },
     "output_type": "display_data"
    }
   ],
   "source": [
    "# Color-coded scatter plot w/ regression lines\n",
    "____ # Your code here\n",
    "sns.lmplot(x=\"pricepercent\", y=\"winpercent\", hue=\"chocolate\", data=candy_data)\n",
    "\n",
    "# Check your answer\n",
    "step_6.a.check()"
   ]
  },
  {
   "cell_type": "code",
   "execution_count": 19,
   "id": "218bb5eb",
   "metadata": {
    "execution": {
     "iopub.execute_input": "2022-04-08T12:08:06.399731Z",
     "iopub.status.busy": "2022-04-08T12:08:06.398896Z",
     "iopub.status.idle": "2022-04-08T12:08:06.401762Z",
     "shell.execute_reply": "2022-04-08T12:08:06.402388Z",
     "shell.execute_reply.started": "2022-04-08T12:07:15.194964Z"
    },
    "papermill": {
     "duration": 0.059766,
     "end_time": "2022-04-08T12:08:06.402553",
     "exception": false,
     "start_time": "2022-04-08T12:08:06.342787",
     "status": "completed"
    },
    "tags": []
   },
   "outputs": [],
   "source": [
    "# Lines below will give you a hint or solution code\n",
    "#step_6.a.hint()\n",
    "#step_6.a.solution_plot()"
   ]
  },
  {
   "cell_type": "markdown",
   "id": "8fae7b61",
   "metadata": {
    "papermill": {
     "duration": 0.051013,
     "end_time": "2022-04-08T12:08:06.505540",
     "exception": false,
     "start_time": "2022-04-08T12:08:06.454527",
     "status": "completed"
    },
    "tags": []
   },
   "source": [
    "#### Part B\n",
    "\n",
    "Using the regression lines, what conclusions can you draw about the effects of chocolate and price on candy popularity?"
   ]
  },
  {
   "cell_type": "code",
   "execution_count": 20,
   "id": "654b689f",
   "metadata": {
    "execution": {
     "iopub.execute_input": "2022-04-08T12:08:06.611896Z",
     "iopub.status.busy": "2022-04-08T12:08:06.610879Z",
     "iopub.status.idle": "2022-04-08T12:08:06.614266Z",
     "shell.execute_reply": "2022-04-08T12:08:06.614866Z",
     "shell.execute_reply.started": "2022-04-08T12:07:15.199632Z"
    },
    "papermill": {
     "duration": 0.058482,
     "end_time": "2022-04-08T12:08:06.615035",
     "exception": false,
     "start_time": "2022-04-08T12:08:06.556553",
     "status": "completed"
    },
    "tags": []
   },
   "outputs": [],
   "source": [
    "#step_6.b.hint()"
   ]
  },
  {
   "cell_type": "code",
   "execution_count": 21,
   "id": "389375f3",
   "metadata": {
    "execution": {
     "iopub.execute_input": "2022-04-08T12:08:06.722298Z",
     "iopub.status.busy": "2022-04-08T12:08:06.721305Z",
     "iopub.status.idle": "2022-04-08T12:08:06.728590Z",
     "shell.execute_reply": "2022-04-08T12:08:06.729161Z",
     "shell.execute_reply.started": "2022-04-08T12:07:15.209977Z"
    },
    "papermill": {
     "duration": 0.062603,
     "end_time": "2022-04-08T12:08:06.729333",
     "exception": false,
     "start_time": "2022-04-08T12:08:06.666730",
     "status": "completed"
    },
    "tags": []
   },
   "outputs": [
    {
     "data": {
      "application/javascript": [
       "parent.postMessage({\"jupyterEvent\": \"custom.exercise_interaction\", \"data\": {\"interactionType\": 3, \"questionType\": 4, \"questionId\": \"6.2_ThinkColorReg\", \"learnToolsVersion\": \"0.3.4\", \"valueTowardsCompletion\": 0.0, \"failureMessage\": \"\", \"exceptionClass\": \"\", \"trace\": \"\", \"outcomeType\": 4}}, \"*\")"
      ],
      "text/plain": [
       "<IPython.core.display.Javascript object>"
      ]
     },
     "metadata": {},
     "output_type": "display_data"
    },
    {
     "data": {
      "text/markdown": [
       "<span style=\"color:#33cc99\">Solution:</span> We'll begin with the regression line for chocolate candies. Since this line has a slightly positive slope, we can say that more expensive chocolate candies tend to be more popular (than relatively cheaper chocolate candies).  Likewise, since the regression line for candies without chocolate has a negative slope, we can say that if candies don't contain chocolate, they tend to be more popular when they are cheaper.  One important note, however, is that the dataset is quite small -- so we shouldn't invest too much trust in these patterns!  To inspire more confidence in the results, we should add more candies to the dataset."
      ],
      "text/plain": [
       "Solution: We'll begin with the regression line for chocolate candies. Since this line has a slightly positive slope, we can say that more expensive chocolate candies tend to be more popular (than relatively cheaper chocolate candies).  Likewise, since the regression line for candies without chocolate has a negative slope, we can say that if candies don't contain chocolate, they tend to be more popular when they are cheaper.  One important note, however, is that the dataset is quite small -- so we shouldn't invest too much trust in these patterns!  To inspire more confidence in the results, we should add more candies to the dataset."
      ]
     },
     "metadata": {},
     "output_type": "display_data"
    }
   ],
   "source": [
    "# Check your answer (Run this code cell to receive credit!)\n",
    "step_6.b.solution()"
   ]
  },
  {
   "cell_type": "markdown",
   "id": "20c17d21",
   "metadata": {
    "papermill": {
     "duration": 0.052117,
     "end_time": "2022-04-08T12:08:06.833690",
     "exception": false,
     "start_time": "2022-04-08T12:08:06.781573",
     "status": "completed"
    },
    "tags": []
   },
   "source": [
    "## Step 7: Everybody loves chocolate.\n",
    "\n",
    "#### Part A\n",
    "\n",
    "Create a categorical scatter plot to highlight the relationship between `'chocolate'` and `'winpercent'`.  Put `'chocolate'` on the (horizontal) x-axis, and `'winpercent'` on the (vertical) y-axis."
   ]
  },
  {
   "cell_type": "code",
   "execution_count": 22,
   "id": "2643c43e",
   "metadata": {
    "execution": {
     "iopub.execute_input": "2022-04-08T12:08:06.943098Z",
     "iopub.status.busy": "2022-04-08T12:08:06.942031Z",
     "iopub.status.idle": "2022-04-08T12:08:07.153954Z",
     "shell.execute_reply": "2022-04-08T12:08:07.153286Z",
     "shell.execute_reply.started": "2022-04-08T12:07:15.222846Z"
    },
    "papermill": {
     "duration": 0.267774,
     "end_time": "2022-04-08T12:08:07.154147",
     "exception": false,
     "start_time": "2022-04-08T12:08:06.886373",
     "status": "completed"
    },
    "tags": []
   },
   "outputs": [
    {
     "data": {
      "application/javascript": [
       "parent.postMessage({\"jupyterEvent\": \"custom.exercise_interaction\", \"data\": {\"outcomeType\": 1, \"valueTowardsCompletion\": 0.3333333333333333, \"interactionType\": 1, \"questionType\": 2, \"questionId\": \"7.1_PlotSwarm\", \"learnToolsVersion\": \"0.3.4\", \"failureMessage\": \"\", \"exceptionClass\": \"\", \"trace\": \"\"}}, \"*\")"
      ],
      "text/plain": [
       "<IPython.core.display.Javascript object>"
      ]
     },
     "metadata": {},
     "output_type": "display_data"
    },
    {
     "data": {
      "text/markdown": [
       "<span style=\"color:#33cc33\">Correct</span>"
      ],
      "text/plain": [
       "Correct"
      ]
     },
     "metadata": {},
     "output_type": "display_data"
    },
    {
     "data": {
      "image/png": "[encoded data removed]",
      "text/plain": [
       "<Figure size 432x288 with 1 Axes>"
      ]
     },
     "metadata": {
      "needs_background": "light"
     },
     "output_type": "display_data"
    }
   ],
   "source": [
    "# Scatter plot showing the relationship between 'chocolate' and 'winpercent'\n",
    "____ # Your code here\n",
    "sns.swarmplot(x=candy_data['chocolate'],\n",
    "              y=candy_data['winpercent'])\n",
    "# Check your answer\n",
    "step_7.a.check()"
   ]
  },
  {
   "cell_type": "code",
   "execution_count": 23,
   "id": "c812e864",
   "metadata": {
    "execution": {
     "iopub.execute_input": "2022-04-08T12:08:07.271261Z",
     "iopub.status.busy": "2022-04-08T12:08:07.270525Z",
     "iopub.status.idle": "2022-04-08T12:08:07.273582Z",
     "shell.execute_reply": "2022-04-08T12:08:07.273103Z",
     "shell.execute_reply.started": "2022-04-08T12:07:15.432814Z"
    },
    "papermill": {
     "duration": 0.06415,
     "end_time": "2022-04-08T12:08:07.273774",
     "exception": false,
     "start_time": "2022-04-08T12:08:07.209624",
     "status": "completed"
    },
    "tags": []
   },
   "outputs": [],
   "source": [
    "# Lines below will give you a hint or solution code\n",
    "#step_7.a.hint()\n",
    "#step_7.a.solution_plot()"
   ]
  },
  {
   "cell_type": "markdown",
   "id": "8c3100af",
   "metadata": {
    "papermill": {
     "duration": 0.054352,
     "end_time": "2022-04-08T12:08:07.384725",
     "exception": false,
     "start_time": "2022-04-08T12:08:07.330373",
     "status": "completed"
    },
    "tags": []
   },
   "source": [
    "#### Part B\n",
    "\n",
    "You decide to dedicate a section of your report to the fact that chocolate candies tend to be more popular than candies without chocolate.  Which plot is more appropriate to tell this story: the plot from **Step 6**, or the plot from **Step 7**?"
   ]
  },
  {
   "cell_type": "code",
   "execution_count": 24,
   "id": "d5a7ac20",
   "metadata": {
    "execution": {
     "iopub.execute_input": "2022-04-08T12:08:07.497886Z",
     "iopub.status.busy": "2022-04-08T12:08:07.497217Z",
     "iopub.status.idle": "2022-04-08T12:08:07.500124Z",
     "shell.execute_reply": "2022-04-08T12:08:07.500637Z",
     "shell.execute_reply.started": "2022-04-08T12:07:15.438005Z"
    },
    "papermill": {
     "duration": 0.060903,
     "end_time": "2022-04-08T12:08:07.500806",
     "exception": false,
     "start_time": "2022-04-08T12:08:07.439903",
     "status": "completed"
    },
    "tags": []
   },
   "outputs": [],
   "source": [
    "#step_7.b.hint()"
   ]
  },
  {
   "cell_type": "code",
   "execution_count": 25,
   "id": "3d4e4367",
   "metadata": {
    "execution": {
     "iopub.execute_input": "2022-04-08T12:08:07.617451Z",
     "iopub.status.busy": "2022-04-08T12:08:07.616781Z",
     "iopub.status.idle": "2022-04-08T12:08:07.622637Z",
     "shell.execute_reply": "2022-04-08T12:08:07.623234Z",
     "shell.execute_reply.started": "2022-04-08T12:07:15.447901Z"
    },
    "papermill": {
     "duration": 0.064853,
     "end_time": "2022-04-08T12:08:07.623400",
     "exception": false,
     "start_time": "2022-04-08T12:08:07.558547",
     "status": "completed"
    },
    "tags": []
   },
   "outputs": [
    {
     "data": {
      "application/javascript": [
       "parent.postMessage({\"jupyterEvent\": \"custom.exercise_interaction\", \"data\": {\"interactionType\": 3, \"questionType\": 4, \"questionId\": \"7.2_ThinkSwarm\", \"learnToolsVersion\": \"0.3.4\", \"valueTowardsCompletion\": 0.0, \"failureMessage\": \"\", \"exceptionClass\": \"\", \"trace\": \"\", \"outcomeType\": 4}}, \"*\")"
      ],
      "text/plain": [
       "<IPython.core.display.Javascript object>"
      ]
     },
     "metadata": {},
     "output_type": "display_data"
    },
    {
     "data": {
      "text/markdown": [
       "<span style=\"color:#33cc99\">Solution:</span> In this case, the categorical scatter plot from **Step 7** is the more appropriate plot. While both plots tell the desired story, the plot from **Step 6** conveys far more information that could distract from the main point."
      ],
      "text/plain": [
       "Solution: In this case, the categorical scatter plot from **Step 7** is the more appropriate plot. While both plots tell the desired story, the plot from **Step 6** conveys far more information that could distract from the main point."
      ]
     },
     "metadata": {},
     "output_type": "display_data"
    }
   ],
   "source": [
    "# Check your answer (Run this code cell to receive credit!)\n",
    "step_7.b.solution()"
   ]
  },
  {
   "cell_type": "markdown",
   "id": "dcbbb8de",
   "metadata": {
    "papermill": {
     "duration": 0.055713,
     "end_time": "2022-04-08T12:08:07.735973",
     "exception": false,
     "start_time": "2022-04-08T12:08:07.680260",
     "status": "completed"
    },
    "tags": []
   },
   "source": [
    "## Keep going\n",
    "\n",
    "Explore **[histograms and density plots](https://www.kaggle.com/alexisbcook/distributions)**."
   ]
  },
  {
   "cell_type": "markdown",
   "id": "79a6ed00",
   "metadata": {
    "papermill": {
     "duration": 0.05582,
     "end_time": "2022-04-08T12:08:07.848552",
     "exception": false,
     "start_time": "2022-04-08T12:08:07.792732",
     "status": "completed"
    },
    "tags": []
   },
   "source": [
    "---\n",
    "\n",
    "\n",
    "\n",
    "\n",
    "*Have questions or comments? Visit the [course discussion forum](https://www.kaggle.com/learn/data-visualization/discussion) to chat with other learners.*"
   ]
  }
 ],
 "metadata": {
  "kernelspec": {
   "display_name": "Python 3",
   "language": "python",
   "name": "python3"
  },
  "language_info": {
   "codemirror_mode": {
    "name": "ipython",
    "version": 3
   },
   "file_extension": ".py",
   "mimetype": "text/x-python",
   "name": "python",
   "nbconvert_exporter": "python",
   "pygments_lexer": "ipython3",
   "version": "3.7.12"
  },
  "papermill": {
   "default_parameters": {},
   "duration": 17.529085,
   "end_time": "2022-04-08T12:08:08.616732",
   "environment_variables": {},
   "exception": null,
   "input_path": "__notebook__.ipynb",
   "output_path": "__notebook__.ipynb",
   "parameters": {},
   "start_time": "2022-04-08T12:07:51.087647",
   "version": "2.3.3"
  }
 },
 "nbformat": 4,
 "nbformat_minor": 5
}
